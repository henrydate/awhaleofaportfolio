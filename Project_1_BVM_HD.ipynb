{
 "cells": [
  {
   "cell_type": "markdown",
   "id": "aca97b3d-029b-42bd-a101-0277a68b50eb",
   "metadata": {},
   "source": [
    "# Project 1 Group 2: Financial Investment Analyzer"
   ]
  },
  {
   "cell_type": "markdown",
   "id": "ee348a64-0fff-4822-bc4a-f6fe079f51b7",
   "metadata": {},
   "source": [
    "## Hello, let's begin your financial investment journey by telling us a bit about yourself."
   ]
  },
  {
   "cell_type": "markdown",
   "id": "5206f49a-0f5b-4767-9f55-d5b78921e381",
   "metadata": {},
   "source": [
    "#### Please press shift + return to proceed."
   ]
  },
  {
   "cell_type": "code",
   "execution_count": 2,
   "id": "4fb2d39a-a21e-4d3e-8003-f6aba02f159e",
   "metadata": {
    "tags": []
   },
   "outputs": [
    {
     "name": "stdin",
     "output_type": "stream",
     "text": [
      "Please enter your first name:   Henry\n",
      "And your last name:   d\n",
      "How old are you:   1\n"
     ]
    }
   ],
   "source": [
    "# Collect first and last name and age inputs.\n",
    "\n",
    "n1 = str(input('Please enter your first name:  '))\n",
    "n2 = str(input('And your last name:  '))\n",
    "n3 = int(input('How old are you:  '))"
   ]
  },
  {
   "cell_type": "code",
   "execution_count": 3,
   "id": "13f13e0a-dcf8-4030-9599-421d4587ec04",
   "metadata": {
    "tags": []
   },
   "outputs": [
    {
     "name": "stdout",
     "output_type": "stream",
     "text": [
      "Thanks Henry As you are 1 years old, and have 66 years to retirement we should review a couple of things to give you the best investment recommendation.\n"
     ]
    }
   ],
   "source": [
    "##Calculate years to retire, based on 67 years.\n",
    "#Print name, age, retirement statement.\n",
    "\n",
    "ytr = 67 - n3\n",
    "print('Thanks', n1,'As you are', n3, 'years old, and have', ytr, 'years to retirement we should review a couple of things to give you the best investment recommendation.')"
   ]
  },
  {
   "cell_type": "markdown",
   "id": "6bc455ff-4d63-48e0-9566-6c4df71dec6e",
   "metadata": {},
   "source": [
    "## To help shape your portfolio please chose which statement best reflects your investing comfort zone.\n",
    "#### (Please note: Option 1 is the least aggressive investment strategy, and 5 is the riskiest: high risk, with the potential for high returns.)"
   ]
  },
  {
   "cell_type": "code",
   "execution_count": 8,
   "id": "ada66de4-3320-4aee-90ef-6995089baf0b",
   "metadata": {
    "tags": []
   },
   "outputs": [
    {
     "name": "stdout",
     "output_type": "stream",
     "text": [
      "\n",
      "Henry it is important that you are comfortable with how your money is invested and the level of risk and reward. \n",
      "\n",
      "More stable investments tend to have lower growth, whilst high growth investments have a higher associated risk. Which of the following statements best represents how you feel when investing your money:\n",
      "\n",
      "1. I do not want to lose my money, I would rather have a low return than risk the loss of any part of my capital.\n",
      "2. I prefer an amount of stablity, watching the market fluctuate makes me feel sick.\n",
      "3. I can accept a degree of market fluctation to achieve better results\n",
      "4. I am willing to accept moderate market fluctuations to achieve better returns.\n",
      "5. To receive the maximum return on my investment, I am willing to accept a higher investmemt fluctuations and a high degree of risk.\n",
      "\n",
      "Please choose one of the above statements that best represents your comfort level for investing.\n"
     ]
    },
    {
     "name": "stdin",
     "output_type": "stream",
     "text": [
      "My risk investment comfort level is: 1\n"
     ]
    }
   ],
   "source": [
    "# Outline risk profiles and identify client's risk investment comfort level\n",
    "\n",
    "print(f\"\"\"\n",
    "{n1} it is important that you are comfortable with how your money is invested and the level of risk and reward. \n",
    "\n",
    "More stable investments tend to have lower growth, whilst high growth investments have a higher associated risk. Which of the following statements best represents how you feel when investing your money:\n",
    "\n",
    "1. I do not want to lose my money, I would rather have a low return than risk the loss of any part of my capital.\n",
    "2. I prefer an amount of stablity, watching the market fluctuate makes me feel sick.\n",
    "3. I can accept a degree of market fluctation to achieve better results\n",
    "4. I am willing to accept moderate market fluctuations to achieve better returns.\n",
    "5. To receive the maximum return on my investment, I am willing to accept a higher investmemt fluctuations and a high degree of risk.\n",
    "\n",
    "Please choose one of the above statements that best represents your comfort level for investing.\"\"\")\n",
    "\n",
    "\n",
    "R = int(input('My risk investment comfort level is:'))"
   ]
  },
  {
   "cell_type": "markdown",
   "id": "76e1dda2-3577-4322-9773-3f31143a231e",
   "metadata": {},
   "source": [
    "## How much do you have to begin your portfolio with?"
   ]
  },
  {
   "cell_type": "code",
   "execution_count": 10,
   "id": "5dcd1d7b-1c5c-4197-90bc-dc1030e88d86",
   "metadata": {
    "tags": []
   },
   "outputs": [
    {
     "name": "stdin",
     "output_type": "stream",
     "text": [
      "Please enter the sum you want to initially invest: $ 20000\n"
     ]
    }
   ],
   "source": [
    "n7 = int(input('Please enter the sum you want to initially invest: $'))"
   ]
  },
  {
   "cell_type": "code",
   "execution_count": 39,
   "id": "c3a6add9-d45b-447a-b736-d78726890743",
   "metadata": {},
   "outputs": [
    {
     "data": {
      "text/html": [
       "<div>\n",
       "<style scoped>\n",
       "    .dataframe tbody tr th:only-of-type {\n",
       "        vertical-align: middle;\n",
       "    }\n",
       "\n",
       "    .dataframe tbody tr th {\n",
       "        vertical-align: top;\n",
       "    }\n",
       "\n",
       "    .dataframe thead th {\n",
       "        text-align: right;\n",
       "    }\n",
       "</style>\n",
       "<table border=\"1\" class=\"dataframe\">\n",
       "  <thead>\n",
       "    <tr style=\"text-align: right;\">\n",
       "      <th></th>\n",
       "      <th>Unnamed: 0</th>\n",
       "      <th>LOW</th>\n",
       "      <th>LOW.1</th>\n",
       "      <th>LOW.2</th>\n",
       "      <th>MOD</th>\n",
       "      <th>MOD.1</th>\n",
       "      <th>MOD.2</th>\n",
       "      <th>MOD.3</th>\n",
       "      <th>HIGH</th>\n",
       "      <th>HIGH.1</th>\n",
       "      <th>HIGH.2</th>\n",
       "    </tr>\n",
       "  </thead>\n",
       "  <tbody>\n",
       "    <tr>\n",
       "      <th>0</th>\n",
       "      <td>NaN</td>\n",
       "      <td>A</td>\n",
       "      <td>B</td>\n",
       "      <td>C</td>\n",
       "      <td>D</td>\n",
       "      <td>E</td>\n",
       "      <td>F</td>\n",
       "      <td>G</td>\n",
       "      <td>H</td>\n",
       "      <td>I</td>\n",
       "      <td>J</td>\n",
       "    </tr>\n",
       "    <tr>\n",
       "      <th>1</th>\n",
       "      <td>R1 (LOW)</td>\n",
       "      <td>0.2</td>\n",
       "      <td>0.2</td>\n",
       "      <td>0.2</td>\n",
       "      <td>0.15</td>\n",
       "      <td>0.1</td>\n",
       "      <td>0.05</td>\n",
       "      <td>0.05</td>\n",
       "      <td>0.02</td>\n",
       "      <td>0.02</td>\n",
       "      <td>0.01</td>\n",
       "    </tr>\n",
       "    <tr>\n",
       "      <th>2</th>\n",
       "      <td>R2 (MOD)</td>\n",
       "      <td>0.2</td>\n",
       "      <td>0.2</td>\n",
       "      <td>0.15</td>\n",
       "      <td>0.15</td>\n",
       "      <td>0.15</td>\n",
       "      <td>0.1</td>\n",
       "      <td>0.02</td>\n",
       "      <td>0.01</td>\n",
       "      <td>0.01</td>\n",
       "      <td>0.01</td>\n",
       "    </tr>\n",
       "    <tr>\n",
       "      <th>3</th>\n",
       "      <td>R3 (MED)</td>\n",
       "      <td>0.15</td>\n",
       "      <td>0.15</td>\n",
       "      <td>0.15</td>\n",
       "      <td>0.15</td>\n",
       "      <td>0.12</td>\n",
       "      <td>0.12</td>\n",
       "      <td>0.1</td>\n",
       "      <td>0.02</td>\n",
       "      <td>0.02</td>\n",
       "      <td>0.02</td>\n",
       "    </tr>\n",
       "    <tr>\n",
       "      <th>4</th>\n",
       "      <td>R4 (CONF)</td>\n",
       "      <td>0.01</td>\n",
       "      <td>0.01</td>\n",
       "      <td>0.01</td>\n",
       "      <td>0.02</td>\n",
       "      <td>0.1</td>\n",
       "      <td>0.15</td>\n",
       "      <td>0.15</td>\n",
       "      <td>0.15</td>\n",
       "      <td>0.2</td>\n",
       "      <td>0.2</td>\n",
       "    </tr>\n",
       "    <tr>\n",
       "      <th>5</th>\n",
       "      <td>R5 (U CONF)</td>\n",
       "      <td>0.01</td>\n",
       "      <td>0.02</td>\n",
       "      <td>0.02</td>\n",
       "      <td>0.05</td>\n",
       "      <td>0.05</td>\n",
       "      <td>0.1</td>\n",
       "      <td>0.15</td>\n",
       "      <td>0.2</td>\n",
       "      <td>0.2</td>\n",
       "      <td>0.2</td>\n",
       "    </tr>\n",
       "  </tbody>\n",
       "</table>\n",
       "</div>"
      ],
      "text/plain": [
       "    Unnamed: 0   LOW LOW.1 LOW.2   MOD MOD.1 MOD.2 MOD.3  HIGH HIGH.1 HIGH.2\n",
       "0          NaN     A     B     C     D     E     F     G     H      I      J\n",
       "1     R1 (LOW)   0.2   0.2   0.2  0.15   0.1  0.05  0.05  0.02   0.02   0.01\n",
       "2     R2 (MOD)   0.2   0.2  0.15  0.15  0.15   0.1  0.02  0.01   0.01   0.01\n",
       "3     R3 (MED)  0.15  0.15  0.15  0.15  0.12  0.12   0.1  0.02   0.02   0.02\n",
       "4    R4 (CONF)  0.01  0.01  0.01  0.02   0.1  0.15  0.15  0.15    0.2    0.2\n",
       "5  R5 (U CONF)  0.01  0.02  0.02  0.05  0.05   0.1  0.15   0.2    0.2    0.2"
      ]
     },
     "execution_count": 39,
     "metadata": {},
     "output_type": "execute_result"
    }
   ],
   "source": [
    "import pandas as pd\n",
    "from pathlib import Path\n",
    "%matplotlib inline\n",
    "import numpy as np\n",
    "import matplotlib.pyplot as plt\n",
    "\n",
    "risk_options = Path('Risk_Level_Recommendations.csv')\n",
    "\n",
    "risk_df = pd.read_csv(risk_options)\n",
    "\n",
    "risk_df.head(7)"
   ]
  },
  {
   "cell_type": "code",
   "execution_count": 90,
   "id": "32edd574-9daa-4ef6-870e-de45667bf48c",
   "metadata": {},
   "outputs": [],
   "source": [
    "R1 = risk_df.iloc[1, [1, 2, 3, 4, 5, 6, 7, 8, 9, 10]]\n",
    "R2 = risk_df.iloc[2, [1, 2, 3, 4, 5, 6, 7, 8, 9, 10]]\n",
    "R3 = risk_df.iloc[3, [1, 2, 3, 4, 5, 6, 7, 8, 9, 10]]\n",
    "R4 = risk_df.iloc[4, [1, 2, 3, 4, 5, 6, 7, 8, 9, 10]]\n",
    "R5 = risk_df.iloc[5, [1, 2, 3, 4, 5, 6, 7, 8, 9, 10]]\n"
   ]
  },
  {
   "cell_type": "code",
   "execution_count": 95,
   "id": "103dd41e-60ff-4db7-b017-ade9e25bc13a",
   "metadata": {},
   "outputs": [
    {
     "data": {
      "image/png": "[encoded data removed]",
      "text/plain": [
       "<Figure size 432x288 with 1 Axes>"
      ]
     },
     "metadata": {},
     "output_type": "display_data"
    }
   ],
   "source": [
    "y = np.array(R1)\n",
    "\n",
    "plt.pie(y)\n",
    "plt.show() "
   ]
  },
  {
   "cell_type": "code",
   "execution_count": null,
   "id": "41763d82-22b6-4cfa-80c9-53f685d9bc5b",
   "metadata": {},
   "outputs": [],
   "source": []
  }
 ],
 "metadata": {
  "kernelspec": {
   "display_name": "Python 3 (ipykernel)",
   "language": "python",
   "name": "python3"
  },
  "language_info": {
   "codemirror_mode": {
    "name": "ipython",
    "version": 3
   },
   "file_extension": ".py",
   "mimetype": "text/x-python",
   "name": "python",
   "nbconvert_exporter": "python",
   "pygments_lexer": "ipython3",
   "version": "3.7.13"
  }
 },
 "nbformat": 4,
 "nbformat_minor": 5
}
