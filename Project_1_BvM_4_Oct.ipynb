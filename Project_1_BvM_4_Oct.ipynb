{
 "cells": [
  {
   "cell_type": "markdown",
   "id": "aca97b3d-029b-42bd-a101-0277a68b50eb",
   "metadata": {},
   "source": [
    "# Project 1 Group 2: Financial Investment Analyzer"
   ]
  },
  {
   "cell_type": "markdown",
   "id": "ee348a64-0fff-4822-bc4a-f6fe079f51b7",
   "metadata": {},
   "source": [
    "## Hello, let's begin your financial investment journey by telling us a little about yourself."
   ]
  },
  {
   "cell_type": "code",
   "execution_count": 1,
   "id": "a35f7d45-447a-4fab-8014-49c106e796f0",
   "metadata": {
    "tags": []
   },
   "outputs": [],
   "source": [
    "#Set up imports for project\n",
    "\n",
    "import pandas as pd\n",
    "import numpy as np\n",
    "import matplotlib.pyplot as plt"
   ]
  },
  {
   "cell_type": "markdown",
   "id": "5206f49a-0f5b-4767-9f55-d5b78921e381",
   "metadata": {},
   "source": [
    "#### Please press shift + return to proceed."
   ]
  },
  {
   "cell_type": "code",
   "execution_count": 2,
   "id": "4fb2d39a-a21e-4d3e-8003-f6aba02f159e",
   "metadata": {
    "tags": []
   },
   "outputs": [
    {
     "name": "stdin",
     "output_type": "stream",
     "text": [
      "Please enter your first name:   Sam\n",
      "And your last name:   Smith\n",
      "How old are you:   50\n"
     ]
    }
   ],
   "source": [
    "# Collect client first name, last name and age inputs.\n",
    "\n",
    "n1 = str(input('Please enter your first name:  '))\n",
    "n2 = str(input('And your last name:  '))\n",
    "n3 = int(input('How old are you:  '))"
   ]
  },
  {
   "cell_type": "code",
   "execution_count": 3,
   "id": "13f13e0a-dcf8-4030-9599-421d4587ec04",
   "metadata": {
    "tags": []
   },
   "outputs": [
    {
     "name": "stdout",
     "output_type": "stream",
     "text": [
      "Thanks Sam, as you are 50 years old and 17 years from retirement, we should review a couple of things to give you the best investment recommendation.\n"
     ]
    }
   ],
   "source": [
    "##Calculate years to retire, based on Fed AuGov requirement of 67 years.\n",
    "#Print name, age and retirement statement.\n",
    "\n",
    "ytr = 67 - n3\n",
    "print(f'Thanks {n1}, as you are {n3} years old and {ytr} years from retirement, we should review a couple of things to give you the best investment recommendation.')"
   ]
  },
  {
   "cell_type": "markdown",
   "id": "6bc455ff-4d63-48e0-9566-6c4df71dec6e",
   "metadata": {},
   "source": [
    "## To help shape your portfolio please chose which statement best reflects your investing comfort zone.\n",
    "#### (Please note: Option 1 is a stable investment strategy, and 5 has the highest risk, with the potential for higher returns.)"
   ]
  },
  {
   "cell_type": "code",
   "execution_count": 4,
   "id": "ada66de4-3320-4aee-90ef-6995089baf0b",
   "metadata": {
    "tags": []
   },
   "outputs": [
    {
     "name": "stdout",
     "output_type": "stream",
     "text": [
      "\n",
      "Sam it is important that you are comfortable with how your money is invested and the level of risk and reward. \n",
      "\n",
      "More stable investments tend to have lower growth, whilst high growth investments have a higher associated risk. \n",
      "Which of the following statements best represents how you feel when investing your money:\n",
      "\n",
      "1. I do not want to lose my money, I would rather have a low return than risk the loss of any part of my capital.\n",
      "2. I prefer an amount of stablity, watching the market fluctuate makes me feel sick.\n",
      "3. I can accept a degree of market fluctation to achieve better results\n",
      "4. I am willing to accept moderate market fluctuations to achieve better returns.\n",
      "5. To receive the maximum return on my investment, I am willing to accept a higher investmemt fluctuations and a high degree of risk.\n",
      "\n",
      "Please choose from the above statements the one which best represents your comfort level.\n"
     ]
    },
    {
     "name": "stdin",
     "output_type": "stream",
     "text": [
      "My risk investment comfort level is: 4\n"
     ]
    }
   ],
   "source": [
    "# Outline risk profiles and identify client's risk investment comfort level\n",
    "\n",
    "print(f\"\"\"\n",
    "{n1} it is important that you are comfortable with how your money is invested and the level of risk and reward. \n",
    "\n",
    "More stable investments tend to have lower growth, whilst high growth investments have a higher associated risk. \n",
    "Which of the following statements best represents how you feel when investing your money:\n",
    "\n",
    "1. I do not want to lose my money, I would rather have a low return than risk the loss of any part of my capital.\n",
    "2. I prefer an amount of stablity, watching the market fluctuate makes me feel sick.\n",
    "3. I can accept a degree of market fluctation to achieve better results\n",
    "4. I am willing to accept moderate market fluctuations to achieve better returns.\n",
    "5. To receive the maximum return on my investment, I am willing to accept a higher investmemt fluctuations and a high degree of risk.\n",
    "\n",
    "Please choose from the above statements the one which best represents your comfort level.\"\"\")\n",
    "\n",
    "\n",
    "risk = str(input('My risk investment comfort level is:'))"
   ]
  },
  {
   "cell_type": "code",
   "execution_count": 5,
   "id": "5ae3d0ff-efdc-4b0d-868d-1c7816c024a2",
   "metadata": {},
   "outputs": [
    {
     "name": "stdout",
     "output_type": "stream",
     "text": [
      "Thank you Sam,now let's look at the balance of shares in risk profile 4.\n"
     ]
    }
   ],
   "source": [
    "print(f\"Thank you {n1},now let's look at the balance of shares in risk profile {risk}.\")"
   ]
  },
  {
   "cell_type": "code",
   "execution_count": 6,
   "id": "6950778a-f671-4641-8613-8c9d4acb55e1",
   "metadata": {},
   "outputs": [
    {
     "data": {
      "text/html": [
       "<div>\n",
       "<style scoped>\n",
       "    .dataframe tbody tr th:only-of-type {\n",
       "        vertical-align: middle;\n",
       "    }\n",
       "\n",
       "    .dataframe tbody tr th {\n",
       "        vertical-align: top;\n",
       "    }\n",
       "\n",
       "    .dataframe thead th {\n",
       "        text-align: right;\n",
       "    }\n",
       "</style>\n",
       "<table border=\"1\" class=\"dataframe\">\n",
       "  <thead>\n",
       "    <tr style=\"text-align: right;\">\n",
       "      <th></th>\n",
       "      <th>RISK LEVEL</th>\n",
       "      <th>AIZ</th>\n",
       "      <th>KO</th>\n",
       "      <th>NBIX</th>\n",
       "      <th>INCY</th>\n",
       "      <th>LDOS</th>\n",
       "      <th>WMT</th>\n",
       "      <th>AMZN</th>\n",
       "      <th>NKE</th>\n",
       "      <th>TSLA</th>\n",
       "      <th>APPL</th>\n",
       "    </tr>\n",
       "  </thead>\n",
       "  <tbody>\n",
       "    <tr>\n",
       "      <th>0</th>\n",
       "      <td>R1 (LOW)</td>\n",
       "      <td>0.20</td>\n",
       "      <td>0.20</td>\n",
       "      <td>0.20</td>\n",
       "      <td>0.15</td>\n",
       "      <td>0.10</td>\n",
       "      <td>0.05</td>\n",
       "      <td>0.05</td>\n",
       "      <td>0.02</td>\n",
       "      <td>0.02</td>\n",
       "      <td>0.01</td>\n",
       "    </tr>\n",
       "    <tr>\n",
       "      <th>1</th>\n",
       "      <td>R2 (MOD)</td>\n",
       "      <td>0.20</td>\n",
       "      <td>0.20</td>\n",
       "      <td>0.15</td>\n",
       "      <td>0.15</td>\n",
       "      <td>0.15</td>\n",
       "      <td>0.10</td>\n",
       "      <td>0.02</td>\n",
       "      <td>0.01</td>\n",
       "      <td>0.01</td>\n",
       "      <td>0.01</td>\n",
       "    </tr>\n",
       "    <tr>\n",
       "      <th>2</th>\n",
       "      <td>R3 (MED)</td>\n",
       "      <td>0.15</td>\n",
       "      <td>0.15</td>\n",
       "      <td>0.15</td>\n",
       "      <td>0.15</td>\n",
       "      <td>0.12</td>\n",
       "      <td>0.12</td>\n",
       "      <td>0.10</td>\n",
       "      <td>0.02</td>\n",
       "      <td>0.02</td>\n",
       "      <td>0.02</td>\n",
       "    </tr>\n",
       "    <tr>\n",
       "      <th>3</th>\n",
       "      <td>R4 (CONF)</td>\n",
       "      <td>0.01</td>\n",
       "      <td>0.01</td>\n",
       "      <td>0.01</td>\n",
       "      <td>0.02</td>\n",
       "      <td>0.10</td>\n",
       "      <td>0.15</td>\n",
       "      <td>0.15</td>\n",
       "      <td>0.15</td>\n",
       "      <td>0.20</td>\n",
       "      <td>0.20</td>\n",
       "    </tr>\n",
       "    <tr>\n",
       "      <th>4</th>\n",
       "      <td>R5 (U CONF)</td>\n",
       "      <td>0.01</td>\n",
       "      <td>0.02</td>\n",
       "      <td>0.02</td>\n",
       "      <td>0.05</td>\n",
       "      <td>0.05</td>\n",
       "      <td>0.10</td>\n",
       "      <td>0.15</td>\n",
       "      <td>0.20</td>\n",
       "      <td>0.20</td>\n",
       "      <td>0.20</td>\n",
       "    </tr>\n",
       "  </tbody>\n",
       "</table>\n",
       "</div>"
      ],
      "text/plain": [
       "    RISK LEVEL   AIZ    KO  NBIX  INCY  LDOS   WMT  AMZN   NKE  TSLA  APPL\n",
       "0     R1 (LOW)  0.20  0.20  0.20  0.15  0.10  0.05  0.05  0.02  0.02  0.01\n",
       "1     R2 (MOD)  0.20  0.20  0.15  0.15  0.15  0.10  0.02  0.01  0.01  0.01\n",
       "2     R3 (MED)  0.15  0.15  0.15  0.15  0.12  0.12  0.10  0.02  0.02  0.02\n",
       "3    R4 (CONF)  0.01  0.01  0.01  0.02  0.10  0.15  0.15  0.15  0.20  0.20\n",
       "4  R5 (U CONF)  0.01  0.02  0.02  0.05  0.05  0.10  0.15  0.20  0.20  0.20"
      ]
     },
     "execution_count": 6,
     "metadata": {},
     "output_type": "execute_result"
    }
   ],
   "source": [
    "#Apply a pre determined risk weighting matrix\n",
    "\n",
    "import numpy as np\n",
    "import pandas as pd\n",
    "from pathlib import Path\n",
    "\n",
    "risk_options = Path('Risk_Level_Recommendations.csv')\n",
    "\n",
    "risk_df = pd.read_csv(risk_options)\n",
    "\n",
    "risk_df.head(7)"
   ]
  },
  {
   "cell_type": "code",
   "execution_count": 11,
   "id": "9c617624-783f-4ba8-a9bb-9d2453863597",
   "metadata": {},
   "outputs": [
    {
     "name": "stdout",
     "output_type": "stream",
     "text": [
      "AIZ     0.01\n",
      "KO      0.01\n",
      "NBIX    0.01\n",
      "INCY    0.02\n",
      "LDOS     0.1\n",
      "WMT     0.15\n",
      "AMZN    0.15\n",
      "NKE     0.15\n",
      "TSLA     0.2\n",
      "APPL     0.2\n",
      "Name: 3, dtype: object\n"
     ]
    }
   ],
   "source": [
    "#Assign stock weights based on client's risk appetite\n",
    "\n",
    "R = int(risk)\n",
    "\n",
    "R1 = risk_df.iloc[0, [1, 2, 3, 4, 5, 6, 7, 8, 9, 10]]\n",
    "R2 = risk_df.iloc[1, [1, 2, 3, 4, 5, 6, 7, 8, 9, 10]]\n",
    "R3 = risk_df.iloc[2, [1, 2, 3, 4, 5, 6, 7, 8, 9, 10]]\n",
    "R4 = risk_df.iloc[3, [1, 2, 3, 4, 5, 6, 7, 8, 9, 10]]\n",
    "R5 = risk_df.iloc[4, [1, 2, 3, 4, 5, 6, 7, 8, 9, 10]]\n",
    "\n",
    "if R == 1:\n",
    "    y=np.array(R1)\n",
    "    print(R1)\n",
    "elif R == 2:\n",
    "    y=np.array(R2)\n",
    "    print(R2)\n",
    "elif R == 3:\n",
    "    y=np.array(R3)\n",
    "    print(R3)\n",
    "elif R == 4:\n",
    "    y=np.array(R4)\n",
    "    print(R4)\n",
    "elif R == 5:\n",
    "    y=np.array(R5)\n",
    "    print(R5)"
   ]
  },
  {
   "cell_type": "code",
   "execution_count": 12,
   "id": "53143212-48ff-43e8-b9fe-58c892d5372a",
   "metadata": {},
   "outputs": [
    {
     "name": "stdout",
     "output_type": "stream",
     "text": [
      "Sam, the risk profile you selected allocates weights to the portfolio as shown here.\n"
     ]
    },
    {
     "data": {
      "image/png": "[encoded data removed]",
      "text/plain": [
       "<Figure size 432x288 with 1 Axes>"
      ]
     },
     "metadata": {},
     "output_type": "display_data"
    }
   ],
   "source": [
    "#graph the share investment weights for the client's seletced risk level appetite \n",
    "\n",
    "mylabels = ['AIX','KO','NBIX','INCY','LDOS','WMT','AMZN','NKE', 'TSLA','APPL']\n",
    "\n",
    "plt.pie(y, labels = mylabels, autopct='%.1f%%', pctdistance=0.8)\n",
    "plt.title(f'{n1} {n2} Investment Portfolio Stock Allocation')\n",
    "plt.show\n",
    "print(f'{n1}, the risk profile you selected allocates weights to the portfolio as shown here.')\n",
    "plt.savefig(f\"{n1} {n2} Investment Portfolio Stock Allocation\")"
   ]
  },
  {
   "cell_type": "code",
   "execution_count": 14,
   "id": "b29b8159-e1a7-4af5-b0c4-24d2a7bd2349",
   "metadata": {},
   "outputs": [
    {
     "name": "stdout",
     "output_type": "stream",
     "text": [
      "Okay Sam,let's take the next step.\n"
     ]
    },
    {
     "name": "stdin",
     "output_type": "stream",
     "text": [
      "Please enter how much you want to invest in your portfolio: $ 30000\n"
     ]
    }
   ],
   "source": [
    "print(f\"Okay {n1},let's take the next step.\")\n",
    "n7 = int(input('Please enter how much you want to invest in your portfolio: $'))"
   ]
  },
  {
   "cell_type": "code",
   "execution_count": 136,
   "id": "8ed66ae1-1e3b-4716-bccd-dfb67784442b",
   "metadata": {},
   "outputs": [
    {
     "name": "stdout",
     "output_type": "stream",
     "text": [
      "Thank you, Dan let us have a look at the balance of shares in your portfolio\n"
     ]
    }
   ],
   "source": []
  },
  {
   "cell_type": "code",
   "execution_count": null,
   "id": "15516e36-1b2d-4fa2-942b-938d4dfcf37d",
   "metadata": {},
   "outputs": [],
   "source": []
  },
  {
   "cell_type": "code",
   "execution_count": null,
   "id": "5dcd1d7b-1c5c-4197-90bc-dc1030e88d86",
   "metadata": {
    "tags": []
   },
   "outputs": [],
   "source": []
  },
  {
   "cell_type": "code",
   "execution_count": null,
   "id": "103dd41e-60ff-4db7-b017-ade9e25bc13a",
   "metadata": {},
   "outputs": [],
   "source": []
  },
  {
   "cell_type": "code",
   "execution_count": null,
   "id": "fa89dd6e-c732-4889-b965-4731916d6237",
   "metadata": {},
   "outputs": [],
   "source": []
  },
  {
   "cell_type": "code",
   "execution_count": null,
   "id": "ea173a3e-d458-491d-9146-7dd20027664f",
   "metadata": {},
   "outputs": [],
   "source": []
  },
  {
   "cell_type": "code",
   "execution_count": null,
   "id": "6f2a46df-e596-4666-a9a2-66b0cbcb33a6",
   "metadata": {},
   "outputs": [],
   "source": []
  }
 ],
 "metadata": {
  "kernelspec": {
   "display_name": "dev",
   "language": "python",
   "name": "dev"
  },
  "language_info": {
   "codemirror_mode": {
    "name": "ipython",
    "version": 3
   },
   "file_extension": ".py",
   "mimetype": "text/x-python",
   "name": "python",
   "nbconvert_exporter": "python",
   "pygments_lexer": "ipython3",
   "version": "3.7.13"
  }
 },
 "nbformat": 4,
 "nbformat_minor": 5
}
